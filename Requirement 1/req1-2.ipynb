{
 "cells": [
  {
   "cell_type": "code",
   "execution_count": 1,
   "id": "funded-madonna",
   "metadata": {},
   "outputs": [
    {
     "data": {
      "text/html": [
       "<div>\n",
       "<style scoped>\n",
       "    .dataframe tbody tr th:only-of-type {\n",
       "        vertical-align: middle;\n",
       "    }\n",
       "\n",
       "    .dataframe tbody tr th {\n",
       "        vertical-align: top;\n",
       "    }\n",
       "\n",
       "    .dataframe thead th {\n",
       "        text-align: right;\n",
       "    }\n",
       "</style>\n",
       "<table border=\"1\" class=\"dataframe\">\n",
       "  <thead>\n",
       "    <tr style=\"text-align: right;\">\n",
       "      <th></th>\n",
       "      <th>Name</th>\n",
       "      <th>Group</th>\n",
       "      <th>Date</th>\n",
       "      <th>Duration</th>\n",
       "    </tr>\n",
       "  </thead>\n",
       "  <tbody>\n",
       "    <tr>\n",
       "      <th>0</th>\n",
       "      <td>Samuel Flowers</td>\n",
       "      <td>T02</td>\n",
       "      <td>2020-11-15</td>\n",
       "      <td>938.900000</td>\n",
       "    </tr>\n",
       "    <tr>\n",
       "      <th>1</th>\n",
       "      <td>Samuel Flowers</td>\n",
       "      <td>T02</td>\n",
       "      <td>2020-11-14</td>\n",
       "      <td>1287.916667</td>\n",
       "    </tr>\n",
       "    <tr>\n",
       "      <th>2</th>\n",
       "      <td>Samuel Flowers</td>\n",
       "      <td>T02</td>\n",
       "      <td>2020-11-13</td>\n",
       "      <td>745.716667</td>\n",
       "    </tr>\n",
       "    <tr>\n",
       "      <th>3</th>\n",
       "      <td>Samuel Flowers</td>\n",
       "      <td>T02</td>\n",
       "      <td>2020-11-12</td>\n",
       "      <td>645.083333</td>\n",
       "    </tr>\n",
       "    <tr>\n",
       "      <th>4</th>\n",
       "      <td>Samuel Flowers</td>\n",
       "      <td>T02</td>\n",
       "      <td>2020-11-11</td>\n",
       "      <td>359.500000</td>\n",
       "    </tr>\n",
       "    <tr>\n",
       "      <th>...</th>\n",
       "      <td>...</td>\n",
       "      <td>...</td>\n",
       "      <td>...</td>\n",
       "      <td>...</td>\n",
       "    </tr>\n",
       "    <tr>\n",
       "      <th>958</th>\n",
       "      <td>Leighton Mack</td>\n",
       "      <td>T03</td>\n",
       "      <td>2020-09-22</td>\n",
       "      <td>239.783333</td>\n",
       "    </tr>\n",
       "    <tr>\n",
       "      <th>959</th>\n",
       "      <td>Evelyn Bull</td>\n",
       "      <td>R01</td>\n",
       "      <td>2020-09-22</td>\n",
       "      <td>126.033333</td>\n",
       "    </tr>\n",
       "    <tr>\n",
       "      <th>960</th>\n",
       "      <td>Hisham Avalos</td>\n",
       "      <td>T01</td>\n",
       "      <td>2020-09-15</td>\n",
       "      <td>125.750000</td>\n",
       "    </tr>\n",
       "    <tr>\n",
       "      <th>961</th>\n",
       "      <td>Sadie Hunt</td>\n",
       "      <td>T03</td>\n",
       "      <td>2020-10-04</td>\n",
       "      <td>52.000000</td>\n",
       "    </tr>\n",
       "    <tr>\n",
       "      <th>962</th>\n",
       "      <td>Ainsley Fry</td>\n",
       "      <td>R01</td>\n",
       "      <td>2020-09-16</td>\n",
       "      <td>28.816667</td>\n",
       "    </tr>\n",
       "  </tbody>\n",
       "</table>\n",
       "<p>963 rows × 4 columns</p>\n",
       "</div>"
      ],
      "text/plain": [
       "               Name Group        Date     Duration\n",
       "0    Samuel Flowers   T02  2020-11-15   938.900000\n",
       "1    Samuel Flowers   T02  2020-11-14  1287.916667\n",
       "2    Samuel Flowers   T02  2020-11-13   745.716667\n",
       "3    Samuel Flowers   T02  2020-11-12   645.083333\n",
       "4    Samuel Flowers   T02  2020-11-11   359.500000\n",
       "..              ...   ...         ...          ...\n",
       "958   Leighton Mack   T03  2020-09-22   239.783333\n",
       "959     Evelyn Bull   R01  2020-09-22   126.033333\n",
       "960   Hisham Avalos   T01  2020-09-15   125.750000\n",
       "961      Sadie Hunt   T03  2020-10-04    52.000000\n",
       "962     Ainsley Fry   R01  2020-09-16    28.816667\n",
       "\n",
       "[963 rows x 4 columns]"
      ]
     },
     "execution_count": 1,
     "metadata": {},
     "output_type": "execute_result"
    }
   ],
   "source": [
    "import pandas as pd\n",
    "\n",
    "df = pd.read_csv('accessPerDay.csv')\n",
    "df"
   ]
  },
  {
   "cell_type": "code",
   "execution_count": 2,
   "id": "welcome-today",
   "metadata": {},
   "outputs": [
    {
     "name": "stdout",
     "output_type": "stream",
     "text": [
      "<class 'pandas.core.frame.DataFrame'>\n",
      "RangeIndex: 963 entries, 0 to 962\n",
      "Data columns (total 4 columns):\n",
      " #   Column    Non-Null Count  Dtype  \n",
      "---  ------    --------------  -----  \n",
      " 0   Name      963 non-null    object \n",
      " 1   Group     963 non-null    object \n",
      " 2   Date      963 non-null    object \n",
      " 3   Duration  963 non-null    float64\n",
      "dtypes: float64(1), object(3)\n",
      "memory usage: 30.2+ KB\n"
     ]
    }
   ],
   "source": [
    "df.info()"
   ]
  },
  {
   "cell_type": "code",
   "execution_count": 3,
   "id": "chronic-former",
   "metadata": {},
   "outputs": [
    {
     "data": {
      "text/plain": [
       "['Name', 'Group', 'Date', 'Duration']"
      ]
     },
     "execution_count": 3,
     "metadata": {},
     "output_type": "execute_result"
    }
   ],
   "source": [
    "list(df)"
   ]
  },
  {
   "cell_type": "markdown",
   "id": "persistent-insight",
   "metadata": {},
   "source": [
    "# Q2a"
   ]
  },
  {
   "cell_type": "code",
   "execution_count": 4,
   "id": "injured-habitat",
   "metadata": {},
   "outputs": [],
   "source": [
    "import sqlite3\n",
    "import csv\n",
    "\n",
    "conn = sqlite3.connect('students.db')\n",
    "cur = conn.cursor()\n",
    "cur.execute('DROP TABLE IF EXISTS submission_log')\n",
    "cur.execute('CREATE TABLE submission_log (Name TEXT, \"Group\" TEXT, Date TEXT, Duration REAL)')\n",
    "conn.commit()\n",
    "\n",
    "rows = []\n",
    "count = 0\n",
    "\n",
    "with open('accessPerDay.csv') as file:\n",
    "    csv_reader = csv.reader(file)\n",
    "    headers = next(csv_reader)\n",
    "    \n",
    "    for row in csv_reader:\n",
    "        rows.append(tuple(row))\n",
    "        count += 1\n",
    "        \n",
    "cur.executemany('INSERT INTO submission_log (Name, \"Group\", Date, Duration) VALUES (?, ?, ?, ?)', rows)\n",
    "\n",
    "conn.commit()\n",
    "conn.close()"
   ]
  },
  {
   "cell_type": "code",
   "execution_count": 5,
   "id": "offensive-dealing",
   "metadata": {},
   "outputs": [],
   "source": [
    "conn = sqlite3.connect('students.db')\n",
    "cur = conn.cursor()\n",
    "\n",
    "cur.execute('SELECT COUNT(*) FROM submission_log')\n",
    "\n",
    "assert count == cur.fetchone()[0] # Validate all rows are inserted\n",
    "\n",
    "conn.close()"
   ]
  },
  {
   "cell_type": "markdown",
   "id": "front-spanish",
   "metadata": {},
   "source": [
    "# Q2b(i)"
   ]
  },
  {
   "cell_type": "code",
   "execution_count": 6,
   "id": "sized-animal",
   "metadata": {},
   "outputs": [
    {
     "name": "stdout",
     "output_type": "stream",
     "text": [
      "T02 - 359.86715506811356\n",
      "T01 - 352.96365313715506\n",
      "T03 - 276.8282505895036\n",
      "R01 - 63.5266666666\n"
     ]
    }
   ],
   "source": [
    "conn = sqlite3.connect('students.db')\n",
    "cur = conn.cursor()\n",
    "\n",
    "cur.execute('SELECT \"Group\", AVG(Duration) FROM submission_log GROUP BY \"Group\" ORDER BY Duration DESC')\n",
    "\n",
    "for record in cur.fetchall():\n",
    "    print(f\"{record[0]} - {record[1]}\")\n",
    "    \n",
    "conn.close()"
   ]
  },
  {
   "cell_type": "markdown",
   "id": "absent-invitation",
   "metadata": {},
   "source": [
    "# Q2b(ii)"
   ]
  },
  {
   "cell_type": "code",
   "execution_count": 7,
   "id": "handmade-monday",
   "metadata": {},
   "outputs": [
    {
     "name": "stdout",
     "output_type": "stream",
     "text": [
      "Top 3 most active students\n",
      "Karim Duggan - 17991.683333629997\n",
      "Samuel Flowers - 17442.26666727\n",
      "Aleksander Tucker - 16283.016666739999\n"
     ]
    }
   ],
   "source": [
    "conn = sqlite3.connect('students.db')\n",
    "cur = conn.cursor()\n",
    "\n",
    "cur.execute('SELECT Name, SUM(Duration) FROM submission_log GROUP BY Name ORDER BY SUM(Duration) Desc')\n",
    "\n",
    "print(\"Top 3 most active students\")\n",
    "for record in cur.fetchall()[:3]:\n",
    "    print(f\"{record[0]} - {record[1]}\")"
   ]
  },
  {
   "cell_type": "code",
   "execution_count": 8,
   "id": "minor-toolbox",
   "metadata": {},
   "outputs": [
    {
     "name": "stdout",
     "output_type": "stream",
     "text": [
      "Top 3 least active students\n",
      "Sadie Hunt - 52.0\n",
      "Ainsley Fry - 28.81666667\n",
      "Dion Huff - 4.733333333\n"
     ]
    }
   ],
   "source": [
    "cur.execute('SELECT Name, SUM(Duration) FROM submission_log GROUP BY Name ORDER BY SUM(Duration) Desc')\n",
    "\n",
    "print(\"Top 3 least active students\")\n",
    "for record in cur.fetchall()[-3:]:\n",
    "    print(f\"{record[0]} - {record[1]}\")\n",
    "    \n",
    "conn.close()"
   ]
  }
 ],
 "metadata": {
  "kernelspec": {
   "display_name": "Python 3",
   "language": "python",
   "name": "python3"
  },
  "language_info": {
   "codemirror_mode": {
    "name": "ipython",
    "version": 3
   },
   "file_extension": ".py",
   "mimetype": "text/x-python",
   "name": "python",
   "nbconvert_exporter": "python",
   "pygments_lexer": "ipython3",
   "version": "3.7.6"
  }
 },
 "nbformat": 4,
 "nbformat_minor": 5
}
